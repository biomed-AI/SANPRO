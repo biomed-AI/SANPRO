{
 "cells": [
  {
   "cell_type": "markdown",
   "id": "0605c71b",
   "metadata": {},
   "source": [
    "# Clinica analysis"
   ]
  },
  {
   "cell_type": "code",
   "execution_count": null,
   "id": "9190c4d2",
   "metadata": {},
   "outputs": [],
   "source": [
    "import matplotlib.pyplot as plt\n",
    "import seaborn as sns  \n",
    "from bioinfokit import analys, visuz\n",
    "from sklearn.preprocessing import StandardScaler, MinMaxScaler\n",
    "from sklearn.impute import SimpleImputer\n",
    "from sklearn.pipeline import make_pipeline\n",
    "from sklearn.preprocessing import QuantileTransformer\n",
    "from sklearn.datasets import load_digits\n",
    "from sklearn.decomposition import PCA  \n",
    "from sklearn.manifold import TSNE\n",
    "import numpy as np\n",
    "import pandas as pd\n",
    "import scanpy as sc\n",
    "import anndata as ad\n",
    "from sklearn.cluster import KMeans\n",
    "from sklearn.preprocessing import MinMaxScaler,StandardScaler\n",
    "from sklearn import metrics\n",
    "from sklearn.metrics import silhouette_score,adjusted_rand_score,normalized_mutual_info_score\n",
    "from sklearn.metrics.cluster import contingency_matrix\n",
    "import warnings\n",
    "\n",
    "warnings.filterwarnings(\"ignore\")"
   ]
  },
  {
   "cell_type": "code",
   "execution_count": null,
   "id": "33fd5c9c",
   "metadata": {},
   "outputs": [],
   "source": [
    "# output 5 upregulated proteins and plot the volcano plot\n",
    "def rank_proteins_and_volcano_plot(adata):\n",
    "        \n",
    "    names = list(adata.uns['rank_genes_groups']['names'])\n",
    "    logfoldchanges = list(adata.uns['rank_genes_groups']['logfoldchanges'])\n",
    "    pvals_adj = list(adata.uns['rank_genes_groups']['pvals_adj'])\n",
    "\n",
    "    names_list = []\n",
    "    logfoldchanges_list = []\n",
    "    pvals_adj_list = []\n",
    "\n",
    "    for i in range(len(names)):\n",
    "        names_list.append(names[i][1])\n",
    "        logfoldchanges_list.append(logfoldchanges[i][1])\n",
    "        pvals_adj_list.append(pvals_adj[i][1])\n",
    "\n",
    "    print('top 10 upregulated proteins:', names_list[:10])\n",
    "    print(names_list)\n",
    "\n",
    "    dic = {'GeneNames':names_list,\n",
    "        'log2FC' : logfoldchanges_list,\n",
    "        'p-value' : pvals_adj_list}\n",
    "    data = pd.DataFrame(dic) \n",
    "    visuz.GeneExpression.volcano(df=data, lfc=\"log2FC\", pv=\"p-value\", geneid=\"GeneNames\", lfc_thr = (np.log2(1.5), np.log2(1.5)),\n",
    "        gstyle=2, sign_line=True,xlm=(-2,2,0.5),genenames = (names_list[0]),color = (\"#fd625e\", \"grey\", \"#01b8aa\"))"
   ]
  },
  {
   "cell_type": "code",
   "execution_count": null,
   "id": "acf43c4e",
   "metadata": {},
   "outputs": [],
   "source": [
    "adata_raw = sc.read_h5ad('/home/chenjn/rna2adt_push/downstream/clinical_proteomic_application/data/ECCITE_seq_processed.h5ad')\n",
    "adata = sc.read_h5ad(\"/home/chenjn/rna2adt_push/downstream/clinical_proteomic_application/emb_old/ECCITE_step2.h5ad\")\n",
    "# adata = sc.read_h5ad(\"./emb/ECCITE_step1.h5ad\")\n",
    "\n",
    "mapping_dict = {\n",
    "    0: 'control',\n",
    "    1: 'patient'\n",
    "}\n",
    "adata_raw.obs['label'] = adata_raw.obs['donor_type'].replace(mapping_dict)"
   ]
  },
  {
   "cell_type": "code",
   "execution_count": null,
   "id": "0f9246ab",
   "metadata": {},
   "outputs": [],
   "source": [
    "sc.pp.neighbors(adata_raw, n_neighbors=15,use_rep='X')\n",
    "sc.tl.louvain(adata_raw,resolution = 0.9,key_added = \"leiden\")  \n",
    "\n",
    "sc.pp.neighbors(adata, n_neighbors=15,use_rep='X')\n",
    "sc.tl.louvain(adata,resolution = 1.6,key_added = \"leiden\")  "
   ]
  },
  {
   "cell_type": "markdown",
   "id": "68ee1ec6",
   "metadata": {},
   "source": [
    "### UMAP plot showing the cells colored by clusters"
   ]
  },
  {
   "cell_type": "code",
   "execution_count": null,
   "id": "4eeca9fe",
   "metadata": {},
   "outputs": [],
   "source": [
    "# Raw data\n",
    "sc.tl.umap(adata_raw,n_components=2)\n",
    "sc.pl.umap(adata_raw, color='label', show=False, legend_loc='none')\n",
    "plt.title(\"\")\n",
    "# plt.savefig(\"ECCITE_figure/umap/raw_umap.png\")\n",
    "# plt.savefig(\"ECCITE_figure/umap/raw_umap.svg\")\n",
    "\n",
    "# Embeddings\n",
    "sc.tl.umap(adata,n_components=2)\n",
    "sc.pl.umap(adata, color='donor_type', show=False, legend_loc='none')\n",
    "plt.title(\"\")\n",
    "# plt.savefig(\"ECCITE_figure/umap/batch_umap.png\")\n",
    "# plt.savefig(\"ECCITE_figure/umap/batch_umap.svg\")\n",
    "\n",
    "# Leiden\n",
    "sc.tl.umap(adata,n_components=2)\n",
    "sc.pl.umap(adata, color=\"leiden\", show=False, legend_loc='on data')\n",
    "plt.title(\"\")\n",
    "# plt.savefig(\"ECCITE_figure/umap/leiden_umap.png\")\n",
    "# plt.savefig(\"ECCITE_figure/umap/leiden_umap.svg\")"
   ]
  },
  {
   "cell_type": "code",
   "execution_count": null,
   "id": "a160acd4",
   "metadata": {},
   "outputs": [],
   "source": [
    "adata_raw.var.index"
   ]
  },
  {
   "cell_type": "code",
   "execution_count": null,
   "id": "b8acaa82",
   "metadata": {},
   "outputs": [],
   "source": [
    "adata_raw.obs['leiden'] = adata.obs['leiden']\n",
    "# markers = adata_raw.var.index.values\n",
    "# markers = ['CD19', 'MHCII', 'PECAM', 'CD11c', 'CD4', 'CD27','CD8','CCR7','PD-L1','CD34','CD62L','CD7']\n",
    "markers = ['PECAM','CD11c','MHCII','CD11b','CD19','CD8','CD16','CD27', 'CD62L', 'CD4']\n",
    "# markers = ['CD19','MHCII','PECAM','CD11b','CD7','CD8','CD223','CD16','CD27','CD62L','CD26','CD4']\n",
    "\n",
    "sc.tl.dendrogram(adata_raw, groupby='leiden')\n",
    "sc.tl.rank_genes_groups(adata_raw, 'leiden')\n",
    "sc.pl.rank_genes_groups_matrixplot(\n",
    "    adata_raw,\n",
    "    values_to_plot=\"logfoldchanges\",\n",
    "    var_names = markers,\n",
    "    cmap='Blues',\n",
    "    vmin=-4,\n",
    "    vmax=4,\n",
    "    min_logfoldchange=3,\n",
    "    colorbar_title='log fold change',\n",
    "    show=False\n",
    ")\n",
    "# plt.savefig(\"./ECCITE_figure/marker/differential_analysis.png\")\n",
    "# plt.savefig(\"./ECCITE_figure/marker/differential_analysis.svg\")"
   ]
  },
  {
   "cell_type": "markdown",
   "id": "df6fc389",
   "metadata": {},
   "source": [
    "### Combine similar clusters\n",
    "\n",
    "We perform subcluster detection at a higher resolution, further hoping to find markers that cannot be detected at lower resolution. We then combined the clusters with similar pattern such as 12,15,19/14,6,3,8,9/25,18,20 and construct a new adata."
   ]
  },
  {
   "cell_type": "code",
   "execution_count": null,
   "id": "2268c0a1",
   "metadata": {},
   "outputs": [],
   "source": [
    "cluster_label = list(adata_raw.obs['leiden'])\n",
    "combine_cluster_list1 = ['15','12','19']\n",
    "combine_cluster_list2 = ['14','6','3','8','9']\n",
    "combine_cluster_list3 = ['25','18','20']\n",
    "new_cluster_label = ['12' if i in combine_cluster_list1 else i for i in cluster_label]\n",
    "new_cluster_label = ['3' if i in combine_cluster_list2 else i for i in new_cluster_label]\n",
    "new_cluster_label = ['18' if i in combine_cluster_list3 else i for i in new_cluster_label]\n",
    "\n",
    "unique_cluster = list(pd.unique(new_cluster_label))\n",
    "new_cluster_label = [str(unique_cluster.index(i)) for i in new_cluster_label]"
   ]
  },
  {
   "cell_type": "code",
   "execution_count": null,
   "id": "14114524",
   "metadata": {},
   "outputs": [],
   "source": [
    "unique_cluster"
   ]
  },
  {
   "cell_type": "code",
   "execution_count": null,
   "id": "f527190f",
   "metadata": {},
   "outputs": [],
   "source": [
    "new_cluster_label = cluster_label\n",
    "np.unique(new_cluster_label)"
   ]
  },
  {
   "cell_type": "code",
   "execution_count": null,
   "id": "54227534",
   "metadata": {},
   "outputs": [],
   "source": [
    "adata_raw_reorder = ad.AnnData(adata_raw.X)\n",
    "adata_raw_reorder.var_names = adata_raw.var_names\n",
    "adata_raw_reorder.obs['donor_type'] = adata_raw.obs['donor_type']\n",
    "adata_raw_reorder.obs['new_cluster_label'] = pd.Categorical(new_cluster_label)\n",
    "adata_raw_reorder.obs['new_cluster_label']"
   ]
  },
  {
   "cell_type": "markdown",
   "id": "2f6625a3",
   "metadata": {},
   "source": [
    "### Heatmap showing the protein levels across new clusters"
   ]
  },
  {
   "cell_type": "code",
   "execution_count": null,
   "id": "f21d0613",
   "metadata": {},
   "outputs": [],
   "source": [
    "sc.tl.rank_genes_groups(adata_raw_reorder, 'new_cluster_label')\n",
    "sc.pl.rank_genes_groups_matrixplot(\n",
    "    adata_raw_reorder,\n",
    "    values_to_plot=\"logfoldchanges\",\n",
    "    var_names = markers,\n",
    "    cmap='Blues',\n",
    "    vmin=-4,\n",
    "    vmax=4,\n",
    "    min_logfoldchange=3,\n",
    "    colorbar_title='log fold change',\n",
    ")"
   ]
  },
  {
   "cell_type": "code",
   "execution_count": null,
   "id": "a34e9269",
   "metadata": {},
   "outputs": [],
   "source": [
    "adata.obs['new_cluster_label'] = adata_raw_reorder.obs['new_cluster_label']\n",
    "adata"
   ]
  },
  {
   "cell_type": "code",
   "execution_count": null,
   "id": "d4123fb2",
   "metadata": {},
   "outputs": [],
   "source": [
    "for i in np.unique(adata_raw.obs['leiden']):\n",
    "    tmp = adata_raw[adata_raw.obs['leiden'] == i]\n",
    "    tmp1 = tmp[tmp.obs['donor_type'] == tmp.obs['donor_type'][0]]\n",
    "    print(i, tmp1.shape[0] / tmp.shape[0])"
   ]
  },
  {
   "cell_type": "code",
   "execution_count": null,
   "id": "f29ea73f",
   "metadata": {},
   "outputs": [],
   "source": [
    "for i in np.unique(adata.obs['new_cluster_label']):\n",
    "    tmp = adata_raw[adata.obs['new_cluster_label'] == i]\n",
    "    tmp1 = tmp[tmp.obs['donor_type'] == tmp.obs['donor_type'][0]]\n",
    "    print(i, tmp1.shape[0] / tmp.shape[0])"
   ]
  },
  {
   "cell_type": "markdown",
   "id": "452709d7",
   "metadata": {},
   "source": [
    "### UMAP plot showing the cells colored by new clusters\n",
    "We can then plot the umap of scPROTEIN with the new combined cluster labels"
   ]
  },
  {
   "cell_type": "code",
   "execution_count": null,
   "id": "576fc51e",
   "metadata": {},
   "outputs": [],
   "source": [
    "sc.pl.umap(adata, color=\"new_cluster_label\",legend_loc='on data')"
   ]
  },
  {
   "cell_type": "code",
   "execution_count": null,
   "id": "a0d74296",
   "metadata": {},
   "outputs": [],
   "source": [
    "adata_raw_reorder.obs['new_cluster_label'],unique_cluster"
   ]
  },
  {
   "cell_type": "markdown",
   "id": "2ac0889d",
   "metadata": {},
   "source": [
    "### Number of cells from different batch in each clusters"
   ]
  },
  {
   "cell_type": "code",
   "execution_count": null,
   "id": "154c6836",
   "metadata": {},
   "outputs": [],
   "source": [
    "import matplotlib.pyplot as plt\n",
    "import numpy as np\n",
    "\n",
    "def make_cluster_pipelines(adata):\n",
    "    cluster_summary = adata.obs.groupby(['new_cluster_label', 'donor_type']).size().unstack(fill_value=0)\n",
    "    cluster_summary = cluster_summary.sort_values(by=1, ascending=False)\n",
    "\n",
    "    clusters = [f\"cluster {i}\" for i in cluster_summary.index.values]\n",
    "    patient_means = cluster_summary[1]\n",
    "    control_means = [-i for i in cluster_summary[0]]\n",
    "\n",
    "    x = np.arange(len(clusters))\n",
    "    fig, ax = plt.subplots(figsize=(12, 6))\n",
    "    ax.scatter(x, patient_means, color='red', label='Num of samples from patient')\n",
    "    ax.scatter(x, control_means, color='green', label='Num of samples from control donor')\n",
    "\n",
    "    for i in range(len(x)):\n",
    "        if patient_means[i] > 0 and control_means[i] > 0:\n",
    "            ax.plot([x[i], x[i]], [control_means[i], patient_means[i]], color='red')\n",
    "        elif patient_means[i] < 0 and control_means[i] < 0:\n",
    "            ax.plot([x[i], x[i]], [control_means[i], patient_means[i]], color='green')\n",
    "        else:\n",
    "            ax.plot([x[i], x[i]], [control_means[i], 0], color='green')\n",
    "            ax.plot([x[i], x[i]], [0, patient_means[i]], color='red')\n",
    "\n",
    "    ax.axhline(0, color='black', linewidth=0.8, linestyle='--')\n",
    "    ax.grid(True, which='both', axis='y', linestyle='--', linewidth=0.7)\n",
    "\n",
    "    ax.set_xticks(x)\n",
    "    ax.set_xticklabels(clusters, rotation=45, ha='right')\n",
    "    # ax.set_ylabel('Num of samples')\n",
    "    ax.legend()\n",
    "\n",
    "    plt.tight_layout()\n",
    "    # plt.savefig(\"./ECCITE_figure/data_analyusis/Clustered_cell_distribution.png\")\n",
    "    # plt.savefig(\"./ECCITE_figure/data_analyusis/Clustered_cell_distribution.svg\")\n",
    "    plt.show()\n",
    "\n",
    "make_cluster_pipelines(adata_raw_reorder)"
   ]
  },
  {
   "cell_type": "markdown",
   "id": "a8a67cf5",
   "metadata": {},
   "source": [
    "### Cell marker detection within subcluster"
   ]
  },
  {
   "cell_type": "markdown",
   "id": "01a596a8",
   "metadata": {},
   "source": [
    "Take subcluster 7 as an example to illusrate"
   ]
  },
  {
   "cell_type": "code",
   "execution_count": null,
   "id": "40612533",
   "metadata": {},
   "outputs": [],
   "source": [
    "cluster_id = '10'\n",
    "adata_raw_reorder\n",
    "adata_raw_reorder_7 = adata_raw_reorder[adata_raw_reorder.obs['new_cluster_label']==cluster_id]\n",
    "sc.tl.rank_genes_groups(adata_raw_reorder_7, groupby = 'donor_type', method='t-test')"
   ]
  },
  {
   "cell_type": "code",
   "execution_count": null,
   "id": "a7d42128",
   "metadata": {},
   "outputs": [],
   "source": [
    "fig, ax = plt.subplots()\n",
    "labels = 'control', 'patient'\n",
    "sizes = [adata_raw_reorder_7[adata_raw_reorder_7.obs['donor_type']==0].X.shape[0],adata_raw_reorder_7[adata_raw_reorder_7.obs['donor_type']==1].X.shape[0],]\n",
    "plt.title(f\"Cluster{cluster_id}\")\n",
    "ax.pie(sizes, labels=labels, autopct='%1.1f%%',colors=['#01b8aa','#fd625e'],explode=[0.,0.1])\n",
    "# plt.savefig(f\"./ECCITE_figure/pie/{cluster_id}_pie.png\")\n",
    "# plt.savefig(f\"./ECCITE_figure/pie/{cluster_id}_pie.svg\")"
   ]
  },
  {
   "cell_type": "code",
   "execution_count": null,
   "id": "c0b57259",
   "metadata": {},
   "outputs": [],
   "source": [
    "rank_proteins_and_volcano_plot(adata_raw_reorder_7)"
   ]
  }
 ],
 "metadata": {
  "kernelspec": {
   "display_name": "scprotein",
   "language": "python",
   "name": "scprotein"
  },
  "language_info": {
   "codemirror_mode": {
    "name": "ipython",
    "version": 3
   },
   "file_extension": ".py",
   "mimetype": "text/x-python",
   "name": "python",
   "nbconvert_exporter": "python",
   "pygments_lexer": "ipython3",
   "version": "3.8.19"
  }
 },
 "nbformat": 4,
 "nbformat_minor": 5
}
