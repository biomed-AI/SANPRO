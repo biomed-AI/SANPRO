{
 "cells": [
  {
   "cell_type": "code",
   "execution_count": null,
   "metadata": {},
   "outputs": [],
   "source": [
    "%load_ext autoreload\n",
    "%autoreload 2\n",
    "\n",
    "import sys\n",
    "sys.path.append('/home/liwb/project/rna2adt')\n",
    "\n",
    "import triplet_utils\n",
    "import graph_utils\n",
    "\n",
    "import warnings\n",
    "warnings.filterwarnings(\"ignore\")\n",
    "\n",
    "import numpy as np\n",
    "import anndata as ad\n",
    "import scanpy as sc\n",
    "import pandas as pd\n",
    "import scipy.sparse as sp\n",
    "import scipy.linalg\n",
    "from scipy.sparse import csr_matrix\n",
    "import random\n",
    "\n",
    "import torch\n",
    "seed = 3407\n",
    "torch.manual_seed(seed) # 为CPU设置随机种子\n",
    "torch.cuda.manual_seed(seed) # 为当前GPU设置随机种子\n",
    "torch.cuda.manual_seed_all(seed)  # if you are using multi-GPU，为所有GPU设置随机种子\n",
    "np.random.seed(seed)  # Numpy module.\n",
    "random.seed(seed)  # Python random module.\t\n",
    "torch.backends.cudnn.benchmark = False\n",
    "torch.backends.cudnn.deterministic = True\n",
    "used_device = torch.device('cuda:4' if torch.cuda.is_available() else 'cpu')\n",
    "\n",
    "from sklearn.metrics import adjusted_rand_score as ARI\n",
    "from sklearn.metrics import normalized_mutual_info_score as NMI\n",
    "from sklearn.metrics import fowlkes_mallows_score as FMI\n",
    "from sklearn.metrics import silhouette_score as SC\n",
    "\n",
    "from utils import find_resolution, find_res_label\n",
    "\n",
    "from sklearn.cluster import KMeans"
   ]
  },
  {
   "cell_type": "code",
   "execution_count": null,
   "metadata": {},
   "outputs": [],
   "source": [
    "data_name = \"pbmc\"\n",
    "\n",
    "refdata = sc.read_h5ad(f'/data/user/liwb/project/rna2adt/data/{data_name}/ADT.h5ad')\n",
    "# /home/chenjn/rna2adt/data/SCoPE2/ADT.h5ad\n",
    "\n",
    "adata = pd.read_csv(f'/data/user/liwb/project/rna2adt/output/{data_name}/embeddings.csv', index_col=0)\n",
    "adata = ad.AnnData(adata)\n",
    "adata.obs = refdata.obs\n",
    "# adata = ad.AnnData(adata, obs=refdata.obs)\n",
    "\n",
    "index = [i in ['P1', 'P5'] for i in adata.obs['donor']]\n",
    "# index = [i in ['P2', 'P6'] for i in adata.obs['donor']]\n",
    "# index = [i in ['P3', 'P4', 'P7', 'P8'] for i in adata.obs['donor']]\n",
    "# index = [i in ['P1', 'P5', 'P2', 'P6', 'P3', 'P4', 'P7', 'P8'] for i in adata.obs['donor']]\n",
    "adata = adata[index]\n",
    "refdata = refdata[index]"
   ]
  },
  {
   "cell_type": "code",
   "execution_count": null,
   "metadata": {},
   "outputs": [],
   "source": [
    "# refdata.obs[['donor','Batch']]\n",
    "print(refdata.obs['Batch'].value_counts())\n",
    "t1 = refdata[refdata.obs['Batch']=='Batch1']\n",
    "t2 = refdata[refdata.obs['Batch']=='Batch2']\n",
    "t1.obs['donor'].value_counts(),t2.obs['donor'].value_counts()"
   ]
  },
  {
   "cell_type": "code",
   "execution_count": null,
   "metadata": {},
   "outputs": [],
   "source": [
    "# sc.pp.neighbors(refdata)\n",
    "\n",
    "# sc.tl.louvain(refdata)\n",
    "# refdata.obs['louvain_res'] = find_res_label(refdata, len(np.unique(adata.obs['celltype.l2'])))\n",
    "# sc.tl.umap(refdata)\n",
    "\n",
    "# sc.pl.umap(refdata, color=['Batch', 'celltype.l2'], ncols=2, wspace=0.4, show=True)\n",
    "# sc.pl.umap(refdata, color=['louvain', 'louvain_res'], ncols=2, wspace=0.4, show=True)\n",
    "\n",
    "# print(ARI(refdata.obs['louvain'], refdata.obs['celltype.l2']))\n",
    "# print(NMI(refdata.obs['louvain'], refdata.obs['celltype.l2'])) \n",
    "# print(FMI(refdata.obs['louvain'], refdata.obs['celltype.l2']))\n",
    "# print()\n",
    "# print(ARI(refdata.obs['louvain_res'], refdata.obs['celltype.l2']))\n",
    "# print(NMI(refdata.obs['louvain_res'], refdata.obs['celltype.l2'])) \n",
    "# print(FMI(refdata.obs['louvain_res'], refdata.obs['celltype.l2']))"
   ]
  },
  {
   "cell_type": "code",
   "execution_count": null,
   "metadata": {},
   "outputs": [],
   "source": [
    "# sc.pp.neighbors(adata)\n",
    "\n",
    "# sc.tl.louvain(adata)\n",
    "# adata.obs['louvain_res'] = find_res_label(adata, len(np.unique(adata.obs['celltype.l2'])))\n",
    "# sc.tl.umap(adata)\n",
    "\n",
    "# sc.pl.umap(adata, color=['Batch', 'celltype.l2'], ncols=2, wspace=0.4, show=True)\n",
    "# sc.pl.umap(adata, color=['louvain', 'louvain_res'], ncols=2, wspace=0.4, show=True)\n",
    "\n",
    "# print(ARI(adata.obs['louvain'], adata.obs['celltype.l2']))\n",
    "# print(NMI(adata.obs['louvain'], adata.obs['celltype.l2'])) \n",
    "# print(FMI(adata.obs['louvain'], adata.obs['celltype.l2']))\n",
    "# print()\n",
    "# print(ARI(adata.obs['louvain_res'], adata.obs['celltype.l2']))\n",
    "# print(NMI(adata.obs['louvain_res'], adata.obs['celltype.l2'])) \n",
    "# print(FMI(adata.obs['louvain_res'], adata.obs['celltype.l2']))"
   ]
  },
  {
   "cell_type": "code",
   "execution_count": null,
   "metadata": {},
   "outputs": [],
   "source": [
    "Batch_list = []\n",
    "adj_list = []\n",
    "section_ids = ['Batch1', 'Batch2']\n",
    "\n",
    "adata.obs_names = [x + '_' + y + '_' + z for x, y, z in zip(adata.obs_names, adata.obs['Batch'], adata.obs['celltype.l2'])]  \n",
    "\n",
    "for section_id in section_ids:\n",
    "    tmpdata = adata[adata.obs['Batch'] == section_id]\n",
    "    # tmpdata.X = csr_matrix(tmpdata.X)\n",
    "    # adata.var_names_make_unique(join=\"++\") \n",
    "    \n",
    "    # Constructing the spatial network\n",
    "    graph_utils.Cal_Spatial_Net(tmpdata, k_cutoff=20, model='KNN') # the spatial network are saved in adata.uns[‘adj’]\n",
    "       \n",
    "    sc.pp.normalize_total(tmpdata)\n",
    "\n",
    "    adj_list.append(tmpdata.uns['adj'])\n",
    "    Batch_list.append(tmpdata)"
   ]
  },
  {
   "cell_type": "code",
   "execution_count": null,
   "metadata": {},
   "outputs": [],
   "source": [
    "# iter_comb is used to specify the order of integration. For example, (0, 1) means slice 0 will be algined with slice 1 as reference.\n",
    "iter_comb = [(0, 1)]\n",
    "\n",
    "# Here, to reduce GPU memory usage, each slice is considered as a subgraph for training.\n",
    "adata_af = triplet_utils.train_triplet(adata, verbose=True, knn_neigh = 10,\n",
    "                                       n_epochs = 3000, iter_comb = iter_comb, \n",
    "                                       Batch_list=Batch_list, device=used_device,\n",
    "                                       margin=0.01, batch_key='Batch', label_key='celltype.l2')\n",
    "\n"
   ]
  },
  {
   "cell_type": "code",
   "execution_count": null,
   "metadata": {},
   "outputs": [],
   "source": [
    "section_ids = np.array(adata.obs['Batch'].unique())\n",
    "section_ids"
   ]
  },
  {
   "cell_type": "code",
   "execution_count": null,
   "metadata": {},
   "outputs": [],
   "source": [
    "adata1 = ad.AnnData(adata_af.obsm['triplet_emb'], obs=adata_af.obs)\n",
    "adata2 = ad.AnnData(adata_af.obsm['triplet_out'], obs=adata_af.obs)"
   ]
  },
  {
   "cell_type": "code",
   "execution_count": null,
   "metadata": {},
   "outputs": [],
   "source": [
    "sc.pp.neighbors(adata1)\n",
    "sc.tl.louvain(adata1)\n",
    "adata1.obs['louvain_res'] = find_res_label(adata1, len(np.unique(adata1.obs['celltype.l2'])))"
   ]
  },
  {
   "cell_type": "code",
   "execution_count": null,
   "metadata": {},
   "outputs": [],
   "source": [
    "sc.tl.umap(adata1)\n",
    "sc.pl.umap(adata1, color=['Batch', 'celltype.l2'], ncols=2, wspace=0.4, show=True)\n",
    "sc.pl.umap(adata1, color=['louvain', 'louvain_res'], ncols=2, wspace=0.4, show=True)\n",
    "\n",
    "print(ARI(adata1.obs['louvain'], adata1.obs['celltype.l2']))\n",
    "print(NMI(adata1.obs['louvain'], adata1.obs['celltype.l2']))\n",
    "print(FMI(adata1.obs['louvain'], adata1.obs['celltype.l2']))\n",
    "print()\n",
    "print(ARI(adata1.obs['louvain_res'], adata1.obs['celltype.l2']))\n",
    "print(NMI(adata1.obs['louvain_res'], adata1.obs['celltype.l2'])) \n",
    "print(FMI(adata1.obs['louvain_res'], adata1.obs['celltype.l2']))"
   ]
  }
 ],
 "metadata": {
  "kernelspec": {
   "display_name": "STAligner",
   "language": "python",
   "name": "staligner"
  },
  "language_info": {
   "codemirror_mode": {
    "name": "ipython",
    "version": 3
   },
   "file_extension": ".py",
   "mimetype": "text/x-python",
   "name": "python",
   "nbconvert_exporter": "python",
   "pygments_lexer": "ipython3",
   "version": "3.8.19"
  }
 },
 "nbformat": 4,
 "nbformat_minor": 2
}
