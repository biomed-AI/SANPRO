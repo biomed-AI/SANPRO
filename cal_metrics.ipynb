{
 "cells": [
  {
   "cell_type": "code",
   "execution_count": 1,
   "metadata": {},
   "outputs": [],
   "source": [
    "import pandas as pd\n",
    "import scanpy as sc\n",
    "import anndata as ad\n",
    "import numpy as np\n",
    "import scib\n",
    "\n",
    "from sklearn.metrics import adjusted_rand_score as ARI\n",
    "from sklearn.metrics import normalized_mutual_info_score as NMI\n",
    "from sklearn.metrics import fowlkes_mallows_score as FMI\n",
    "from sklearn.metrics import silhouette_score as SC\n",
    "\n",
    "from scipy.optimize import linear_sum_assignment\n",
    "from sklearn.preprocessing import LabelEncoder\n",
    "\n",
    "from sklearn.cluster import KMeans\n",
    "from sklearn.neighbors import NearestNeighbors"
   ]
  },
  {
   "cell_type": "code",
   "execution_count": 2,
   "metadata": {},
   "outputs": [],
   "source": [
    "def cluster_acc(y_true, y_pred):\n",
    "    \"\"\"\n",
    "    Calculate clustering accuracy. Require scikit-learn installed\n",
    "\n",
    "    # Arguments\n",
    "        y: true labels, numpy.array with shape `(n_samples,)`\n",
    "        y_pred: predicted labels, numpy.array with shape `(n_samples,)`\n",
    "\n",
    "    # Return\n",
    "        accuracy, in [0,1]\n",
    "    \"\"\"\n",
    "    assert y_pred.size == y_true.size\n",
    "    \n",
    "    encoder = LabelEncoder()\n",
    "    encoder = encoder.fit(np.unique(y_true))\n",
    "    y_true = encoder.transform(y_true).astype(np.int64)\n",
    "    y_pred = y_pred.astype(np.int64)\n",
    "\n",
    "    D = max(y_pred.max(), y_true.max()) + 1\n",
    "    w = np.zeros((D, D), dtype=np.int64)\n",
    "\n",
    "    for i in range(y_pred.size):\n",
    "        w[y_pred[i], y_true[i]] += 1\n",
    "\n",
    "    # ind = linear_assignment(w.max() - w)\n",
    "    ind = linear_sum_assignment(w.max() - w)\n",
    "    ind = np.array((ind[0], ind[1])).T\n",
    "\n",
    "    return sum([w[i, j] for i, j in ind]) * 1.0 / y_pred.size"
   ]
  },
  {
   "cell_type": "code",
   "execution_count": 3,
   "metadata": {},
   "outputs": [],
   "source": [
    "def label_scores(embeddings, labels):\n",
    "    nn_ = NearestNeighbors(n_neighbors=20)\n",
    "    nn_.fit(embeddings)\n",
    "    knns = nn_.kneighbors(embeddings, return_distance=False)\n",
    "\n",
    "    res = 0\n",
    "    for i in range(len(embeddings)):\n",
    "        num = 0\n",
    "        for j in range(len(knns[i])):\n",
    "            if labels[i] == labels[knns[i][j]]:\n",
    "                num += 1\n",
    "        res += num / len(knns[i])\n",
    "\n",
    "    return res / len(embeddings)"
   ]
  },
  {
   "cell_type": "code",
   "execution_count": 6,
   "metadata": {},
   "outputs": [],
   "source": [
    "method_list = [\n",
    "    # 'Ours',\n",
    "    # 'PCA',\n",
    "    # 'AutoClass',\n",
    "    'AutoEncoder',\n",
    "    # 'scPROTEIN',\n",
    "    'magic',\n",
    "    # 'PCA',\n",
    "    'Seurat'\n",
    "]\n",
    "\n",
    "data_list = [\n",
    "    'pbmc',\n",
    "    # 'reap2',\n",
    "    # 'reap3',\n",
    "    # 'sln111',\n",
    "    # 'sln206',\n",
    "]\n",
    "\n",
    "label_list = [\n",
    "    'celltype.l2',\n",
    "#     'labels',\n",
    "#     'labels',\n",
    "#     'cell_types',\n",
    "#     'cell_types',\n",
    "]"
   ]
  },
  {
   "cell_type": "code",
   "execution_count": 7,
   "metadata": {},
   "outputs": [
    {
     "name": "stdout",
     "output_type": "stream",
     "text": [
      "AutoEncoder pbmc\n"
     ]
    },
    {
     "name": "stderr",
     "output_type": "stream",
     "text": [
      "/data/user/chenjn/anaconda3/envs/rna2adt/lib/python3.8/site-packages/sklearn/cluster/_kmeans.py:1416: FutureWarning: The default value of `n_init` will change from 10 to 'auto' in 1.4. Set the value of `n_init` explicitly to suppress the warning\n",
      "  super()._check_params_vs_input(X, default_n_init=10)\n"
     ]
    },
    {
     "name": "stdout",
     "output_type": "stream",
     "text": [
      "-------------------Louvain-----------------------\n",
      "0.39900637075074097\n",
      "0.6605736677444162\n",
      "0.43558517346257514\n",
      "0.47152256262817727\n",
      "-------------------K means-----------------------\n",
      "0.31505749144306366\n",
      "0.6424852864249002\n",
      "0.3734514477881358\n",
      "0.4095120391524387\n",
      "-------------------scib-----------------------\n",
      "magic pbmc\n"
     ]
    },
    {
     "name": "stderr",
     "output_type": "stream",
     "text": [
      "/data/user/chenjn/anaconda3/envs/rna2adt/lib/python3.8/site-packages/sklearn/cluster/_kmeans.py:1416: FutureWarning: The default value of `n_init` will change from 10 to 'auto' in 1.4. Set the value of `n_init` explicitly to suppress the warning\n",
      "  super()._check_params_vs_input(X, default_n_init=10)\n"
     ]
    },
    {
     "name": "stdout",
     "output_type": "stream",
     "text": [
      "-------------------Louvain-----------------------\n",
      "0.2722857724158259\n",
      "0.5770536505663176\n",
      "0.2974456615810687\n",
      "0.36407844336376294\n",
      "-------------------K means-----------------------\n",
      "0.27474569244299113\n",
      "0.5292749693609314\n",
      "0.35682228431542246\n",
      "0.3499710592600223\n",
      "-------------------scib-----------------------\n",
      "Seurat pbmc\n"
     ]
    },
    {
     "name": "stderr",
     "output_type": "stream",
     "text": [
      "/data/user/chenjn/anaconda3/envs/rna2adt/lib/python3.8/site-packages/sklearn/cluster/_kmeans.py:1416: FutureWarning: The default value of `n_init` will change from 10 to 'auto' in 1.4. Set the value of `n_init` explicitly to suppress the warning\n",
      "  super()._check_params_vs_input(X, default_n_init=10)\n"
     ]
    },
    {
     "name": "stdout",
     "output_type": "stream",
     "text": [
      "-------------------Louvain-----------------------\n",
      "0.44990329850927335\n",
      "0.6911632764451112\n",
      "0.4578954526347024\n",
      "0.516586816697626\n",
      "-------------------K means-----------------------\n",
      "0.29470562359958835\n",
      "0.6214856965378583\n",
      "0.34036621250710913\n",
      "0.39135406493507235\n",
      "-------------------scib-----------------------\n"
     ]
    }
   ],
   "source": [
    "for i in range(len(method_list)):\n",
    "    for j in range(len(data_list)):\n",
    "        print(method_list[i], data_list[j])\n",
    "        if method_list[i] == 'Ours':\n",
    "            adata = sc.read_h5ad('/home/chenjn/rna2adt/A_run_test/new_emb_sc/' + data_list[j] + '.h5ad')\n",
    "        else:\n",
    "            embs = pd.read_csv('/home/chenjn/rna2adt/baseline/' + method_list[i] + '/output/' + data_list[j] + '/embeddings.csv', index_col=0)\n",
    "            adata = ad.AnnData(embs)\n",
    "\n",
    "        refadata = sc.read_h5ad('/home/chenjn/rna2adt/data/' + data_list[j] + '/ADT.h5ad')\n",
    "        label_key = label_list[j]\n",
    "        \n",
    "        adata.obs = refadata.obs\n",
    "\n",
    "        sc.pp.neighbors(adata, use_rep=\"X\")\n",
    "        sc.tl.umap(adata)\n",
    "        sc.tl.louvain(adata, random_state=3407)\n",
    "        # sc.pl.umap(adata, color='louvain')\n",
    "        # sc.pl.umap(adata, color=label_key)\n",
    "\n",
    "        k_means = KMeans(n_clusters=len(np.unique(adata.obs[label_key])))\n",
    "        y_predict = k_means.fit_predict(adata.X)\n",
    "\n",
    "        adata.obs['kmeans'] = y_predict\n",
    "        # sc.pl.umap(adata, color='kmeans')\n",
    "\n",
    "        print('-------------------Louvain-----------------------')\n",
    "\n",
    "        print(ARI(adata.obs['louvain'], adata.obs[label_key]))\n",
    "        print(NMI(adata.obs['louvain'], adata.obs[label_key]))\n",
    "        print(cluster_acc(adata.obs[label_key].to_numpy(), adata.obs['louvain'].values.to_numpy()))\n",
    "        print(FMI(adata.obs['louvain'], adata.obs[label_key]))\n",
    "        # print(SC(adata.X, adata.obs['louvain'].values.reshape(-1, 1)))\n",
    "        # print(label_scores(adata.X, adata.obs[label_key]))\n",
    "\n",
    "\n",
    "        print('-------------------K means-----------------------')\n",
    "\n",
    "        print(ARI(y_predict, adata.obs[label_key]))\n",
    "        print(NMI(y_predict, adata.obs[label_key]))\n",
    "        print(cluster_acc(adata.obs[label_key].to_numpy(), y_predict))\n",
    "        print(FMI(y_predict, adata.obs[label_key]))\n",
    "        # print(SC(adata.X, y_predict.reshape(-1, 1)))\n",
    "        # print(label_scores(adata.X, adata.obs[label_key]))\n",
    "\n",
    "        print('-------------------scib-----------------------')\n",
    "\n",
    "        # scib.me.cluster_optimal_resolution(adata, cluster_key=\"cluster\", label_key=label_key)\n",
    "        # scib.me.ari(adata, cluster_key=\"cluster\", label_key=label_key)"
   ]
  }
 ],
 "metadata": {
  "kernelspec": {
   "display_name": "rna2adt",
   "language": "python",
   "name": "rna2adt"
  },
  "language_info": {
   "codemirror_mode": {
    "name": "ipython",
    "version": 3
   },
   "file_extension": ".py",
   "mimetype": "text/x-python",
   "name": "python",
   "nbconvert_exporter": "python",
   "pygments_lexer": "ipython3",
   "version": "3.8.19"
  }
 },
 "nbformat": 4,
 "nbformat_minor": 2
}
